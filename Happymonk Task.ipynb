{
 "cells": [
  {
   "cell_type": "markdown",
   "id": "7c8c0162",
   "metadata": {},
   "source": [
    "# Import the libraries"
   ]
  },
  {
   "cell_type": "code",
   "execution_count": 90,
   "id": "54cfd930",
   "metadata": {},
   "outputs": [],
   "source": [
    "import pandas as pd\n",
    "import numpy as np\n",
    "from pandas import read_csv\n",
    "import seaborn as sns\n",
    "from sklearn.model_selection import train_test_split\n",
    "from sklearn.preprocessing import LabelEncoder\n",
    "from sklearn.metrics import accuracy_score\n",
    "from tensorflow.keras import Sequential\n",
    "from tensorflow.keras.layers import Dense\n",
    "from matplotlib import pyplot as plt"
   ]
  },
  {
   "cell_type": "markdown",
   "id": "019ae028",
   "metadata": {},
   "source": [
    "# Load the dataset"
   ]
  },
  {
   "cell_type": "code",
   "execution_count": 91,
   "id": "9cb024f0",
   "metadata": {},
   "outputs": [],
   "source": [
    "url = 'https://raw.githubusercontent.com/jbrownlee/Datasets/master/banknote_authentication.csv'\n",
    "# load the dataset\n",
    "dataset = read_csv(url, header=None)\n"
   ]
  },
  {
   "cell_type": "markdown",
   "id": "acf46733",
   "metadata": {},
   "source": [
    "# EDA"
   ]
  },
  {
   "cell_type": "code",
   "execution_count": 92,
   "id": "fd1efcea",
   "metadata": {},
   "outputs": [
    {
     "data": {
      "text/plain": [
       "(1372, 5)"
      ]
     },
     "execution_count": 92,
     "metadata": {},
     "output_type": "execute_result"
    }
   ],
   "source": [
    "# summarize shape\n",
    "dataset.shape"
   ]
  },
  {
   "cell_type": "code",
   "execution_count": 93,
   "id": "2ae2d386",
   "metadata": {},
   "outputs": [
    {
     "data": {
      "text/html": [
       "<div>\n",
       "<style scoped>\n",
       "    .dataframe tbody tr th:only-of-type {\n",
       "        vertical-align: middle;\n",
       "    }\n",
       "\n",
       "    .dataframe tbody tr th {\n",
       "        vertical-align: top;\n",
       "    }\n",
       "\n",
       "    .dataframe thead th {\n",
       "        text-align: right;\n",
       "    }\n",
       "</style>\n",
       "<table border=\"1\" class=\"dataframe\">\n",
       "  <thead>\n",
       "    <tr style=\"text-align: right;\">\n",
       "      <th></th>\n",
       "      <th>0</th>\n",
       "      <th>1</th>\n",
       "      <th>2</th>\n",
       "      <th>3</th>\n",
       "      <th>4</th>\n",
       "    </tr>\n",
       "  </thead>\n",
       "  <tbody>\n",
       "    <tr>\n",
       "      <th>0</th>\n",
       "      <td>3.62160</td>\n",
       "      <td>8.6661</td>\n",
       "      <td>-2.8073</td>\n",
       "      <td>-0.44699</td>\n",
       "      <td>0</td>\n",
       "    </tr>\n",
       "    <tr>\n",
       "      <th>1</th>\n",
       "      <td>4.54590</td>\n",
       "      <td>8.1674</td>\n",
       "      <td>-2.4586</td>\n",
       "      <td>-1.46210</td>\n",
       "      <td>0</td>\n",
       "    </tr>\n",
       "    <tr>\n",
       "      <th>2</th>\n",
       "      <td>3.86600</td>\n",
       "      <td>-2.6383</td>\n",
       "      <td>1.9242</td>\n",
       "      <td>0.10645</td>\n",
       "      <td>0</td>\n",
       "    </tr>\n",
       "    <tr>\n",
       "      <th>3</th>\n",
       "      <td>3.45660</td>\n",
       "      <td>9.5228</td>\n",
       "      <td>-4.0112</td>\n",
       "      <td>-3.59440</td>\n",
       "      <td>0</td>\n",
       "    </tr>\n",
       "    <tr>\n",
       "      <th>4</th>\n",
       "      <td>0.32924</td>\n",
       "      <td>-4.4552</td>\n",
       "      <td>4.5718</td>\n",
       "      <td>-0.98880</td>\n",
       "      <td>0</td>\n",
       "    </tr>\n",
       "  </tbody>\n",
       "</table>\n",
       "</div>"
      ],
      "text/plain": [
       "         0       1       2        3  4\n",
       "0  3.62160  8.6661 -2.8073 -0.44699  0\n",
       "1  4.54590  8.1674 -2.4586 -1.46210  0\n",
       "2  3.86600 -2.6383  1.9242  0.10645  0\n",
       "3  3.45660  9.5228 -4.0112 -3.59440  0\n",
       "4  0.32924 -4.4552  4.5718 -0.98880  0"
      ]
     },
     "execution_count": 93,
     "metadata": {},
     "output_type": "execute_result"
    }
   ],
   "source": [
    "dataset.head()"
   ]
  },
  {
   "cell_type": "code",
   "execution_count": 94,
   "id": "e82d995d",
   "metadata": {},
   "outputs": [
    {
     "name": "stdout",
     "output_type": "stream",
     "text": [
      "                 0            1            2            3            4\n",
      "count  1372.000000  1372.000000  1372.000000  1372.000000  1372.000000\n",
      "mean      0.433735     1.922353     1.397627    -1.191657     0.444606\n",
      "std       2.842763     5.869047     4.310030     2.101013     0.497103\n",
      "min      -7.042100   -13.773100    -5.286100    -8.548200     0.000000\n",
      "25%      -1.773000    -1.708200    -1.574975    -2.413450     0.000000\n",
      "50%       0.496180     2.319650     0.616630    -0.586650     0.000000\n",
      "75%       2.821475     6.814625     3.179250     0.394810     1.000000\n",
      "max       6.824800    12.951600    17.927400     2.449500     1.000000\n"
     ]
    }
   ],
   "source": [
    "print(dataset.describe())"
   ]
  },
  {
   "cell_type": "code",
   "execution_count": 95,
   "id": "7410c6c2",
   "metadata": {},
   "outputs": [
    {
     "name": "stdout",
     "output_type": "stream",
     "text": [
      "<class 'pandas.core.frame.DataFrame'>\n",
      "RangeIndex: 1372 entries, 0 to 1371\n",
      "Data columns (total 5 columns):\n",
      " #   Column  Non-Null Count  Dtype  \n",
      "---  ------  --------------  -----  \n",
      " 0   0       1372 non-null   float64\n",
      " 1   1       1372 non-null   float64\n",
      " 2   2       1372 non-null   float64\n",
      " 3   3       1372 non-null   float64\n",
      " 4   4       1372 non-null   int64  \n",
      "dtypes: float64(4), int64(1)\n",
      "memory usage: 53.7 KB\n"
     ]
    }
   ],
   "source": [
    "dataset.info()"
   ]
  },
  {
   "cell_type": "code",
   "execution_count": 96,
   "id": "bfe00431",
   "metadata": {},
   "outputs": [
    {
     "data": {
      "text/html": [
       "<div>\n",
       "<style scoped>\n",
       "    .dataframe tbody tr th:only-of-type {\n",
       "        vertical-align: middle;\n",
       "    }\n",
       "\n",
       "    .dataframe tbody tr th {\n",
       "        vertical-align: top;\n",
       "    }\n",
       "\n",
       "    .dataframe thead th {\n",
       "        text-align: right;\n",
       "    }\n",
       "</style>\n",
       "<table border=\"1\" class=\"dataframe\">\n",
       "  <thead>\n",
       "    <tr style=\"text-align: right;\">\n",
       "      <th></th>\n",
       "      <th>0</th>\n",
       "      <th>1</th>\n",
       "      <th>2</th>\n",
       "      <th>3</th>\n",
       "      <th>4</th>\n",
       "    </tr>\n",
       "  </thead>\n",
       "  <tbody>\n",
       "    <tr>\n",
       "      <th>0</th>\n",
       "      <td>False</td>\n",
       "      <td>False</td>\n",
       "      <td>False</td>\n",
       "      <td>False</td>\n",
       "      <td>False</td>\n",
       "    </tr>\n",
       "    <tr>\n",
       "      <th>1</th>\n",
       "      <td>False</td>\n",
       "      <td>False</td>\n",
       "      <td>False</td>\n",
       "      <td>False</td>\n",
       "      <td>False</td>\n",
       "    </tr>\n",
       "    <tr>\n",
       "      <th>2</th>\n",
       "      <td>False</td>\n",
       "      <td>False</td>\n",
       "      <td>False</td>\n",
       "      <td>False</td>\n",
       "      <td>False</td>\n",
       "    </tr>\n",
       "    <tr>\n",
       "      <th>3</th>\n",
       "      <td>False</td>\n",
       "      <td>False</td>\n",
       "      <td>False</td>\n",
       "      <td>False</td>\n",
       "      <td>False</td>\n",
       "    </tr>\n",
       "    <tr>\n",
       "      <th>4</th>\n",
       "      <td>False</td>\n",
       "      <td>False</td>\n",
       "      <td>False</td>\n",
       "      <td>False</td>\n",
       "      <td>False</td>\n",
       "    </tr>\n",
       "    <tr>\n",
       "      <th>...</th>\n",
       "      <td>...</td>\n",
       "      <td>...</td>\n",
       "      <td>...</td>\n",
       "      <td>...</td>\n",
       "      <td>...</td>\n",
       "    </tr>\n",
       "    <tr>\n",
       "      <th>1367</th>\n",
       "      <td>False</td>\n",
       "      <td>False</td>\n",
       "      <td>False</td>\n",
       "      <td>False</td>\n",
       "      <td>False</td>\n",
       "    </tr>\n",
       "    <tr>\n",
       "      <th>1368</th>\n",
       "      <td>False</td>\n",
       "      <td>False</td>\n",
       "      <td>False</td>\n",
       "      <td>False</td>\n",
       "      <td>False</td>\n",
       "    </tr>\n",
       "    <tr>\n",
       "      <th>1369</th>\n",
       "      <td>False</td>\n",
       "      <td>False</td>\n",
       "      <td>False</td>\n",
       "      <td>False</td>\n",
       "      <td>False</td>\n",
       "    </tr>\n",
       "    <tr>\n",
       "      <th>1370</th>\n",
       "      <td>False</td>\n",
       "      <td>False</td>\n",
       "      <td>False</td>\n",
       "      <td>False</td>\n",
       "      <td>False</td>\n",
       "    </tr>\n",
       "    <tr>\n",
       "      <th>1371</th>\n",
       "      <td>False</td>\n",
       "      <td>False</td>\n",
       "      <td>False</td>\n",
       "      <td>False</td>\n",
       "      <td>False</td>\n",
       "    </tr>\n",
       "  </tbody>\n",
       "</table>\n",
       "<p>1372 rows × 5 columns</p>\n",
       "</div>"
      ],
      "text/plain": [
       "          0      1      2      3      4\n",
       "0     False  False  False  False  False\n",
       "1     False  False  False  False  False\n",
       "2     False  False  False  False  False\n",
       "3     False  False  False  False  False\n",
       "4     False  False  False  False  False\n",
       "...     ...    ...    ...    ...    ...\n",
       "1367  False  False  False  False  False\n",
       "1368  False  False  False  False  False\n",
       "1369  False  False  False  False  False\n",
       "1370  False  False  False  False  False\n",
       "1371  False  False  False  False  False\n",
       "\n",
       "[1372 rows x 5 columns]"
      ]
     },
     "execution_count": 96,
     "metadata": {},
     "output_type": "execute_result"
    }
   ],
   "source": [
    "dataset.isna()"
   ]
  },
  {
   "cell_type": "markdown",
   "id": "19b9e046",
   "metadata": {},
   "source": [
    "# Histogram and Correlation matrix"
   ]
  },
  {
   "cell_type": "code",
   "execution_count": 97,
   "id": "49811f97",
   "metadata": {},
   "outputs": [
    {
     "data": {
      "image/png": "[encoded data removed]",
      "text/plain": [
       "<Figure size 720x720 with 6 Axes>"
      ]
     },
     "metadata": {
      "needs_background": "light"
     },
     "output_type": "display_data"
    }
   ],
   "source": [
    "# Plot the histograms of all variables\n",
    "dataset.hist(figsize=(10,10), bins=50)\n",
    "plt.show()"
   ]
  },
  {
   "cell_type": "code",
   "execution_count": 98,
   "id": "ca11266a",
   "metadata": {},
   "outputs": [
    {
     "data": {
      "image/png": "[encoded data removed]",
      "text/plain": [
       "<Figure size 432x288 with 2 Axes>"
      ]
     },
     "metadata": {
      "needs_background": "light"
     },
     "output_type": "display_data"
    }
   ],
   "source": [
    "# Plot the correlation matrix as heatmap\n",
    "corr = dataset.corr()\n",
    "sns.heatmap(corr, annot=True, cmap='coolwarm')\n",
    "plt.show()"
   ]
  },
  {
   "cell_type": "code",
   "execution_count": 99,
   "id": "54b4fded",
   "metadata": {},
   "outputs": [
    {
     "name": "stdout",
     "output_type": "stream",
     "text": [
      "0\n",
      "-------------------------\n",
      " 0.5706    0.003644\n",
      " 0.5195    0.002915\n",
      " 0.3292    0.002915\n",
      " 0.3798    0.002915\n",
      "-2.6479    0.002187\n",
      "             ...   \n",
      " 0.1848    0.000729\n",
      " 4.5707    0.000729\n",
      " 2.9742    0.000729\n",
      " 1.1472    0.000729\n",
      "-2.5419    0.000729\n",
      "Name: 0, Length: 1338, dtype: float64\n",
      "\n",
      "1\n",
      "-------------------------\n",
      "-4.45520    0.004373\n",
      "-3.26330    0.003644\n",
      " 0.70980    0.002915\n",
      "-3.79710    0.002915\n",
      "-0.02480    0.002915\n",
      "              ...   \n",
      " 8.81100    0.000729\n",
      " 6.40230    0.000729\n",
      " 7.27970    0.000729\n",
      " 2.10860    0.000729\n",
      "-0.65804    0.000729\n",
      "Name: 1, Length: 1256, dtype: float64\n",
      "\n",
      "2\n",
      "-------------------------\n",
      " 1.2421    0.003644\n",
      " 4.5718    0.003644\n",
      " 3.0895    0.003644\n",
      " 0.7572    0.002915\n",
      "-3.7044    0.002187\n",
      "             ...   \n",
      "-2.0439    0.000729\n",
      " 1.0588    0.000729\n",
      "-0.7843    0.000729\n",
      "-2.9024    0.000729\n",
      " 2.6842    0.000729\n",
      "Name: 2, Length: 1270, dtype: float64\n",
      "\n",
      "3\n",
      "-------------------------\n",
      "-0.29570    0.003644\n",
      "-0.98880    0.003644\n",
      "-0.44440    0.002915\n",
      " 0.36119    0.002915\n",
      "-0.23751    0.002915\n",
      "              ...   \n",
      " 0.75558    0.000729\n",
      "-0.44182    0.000729\n",
      "-0.24010    0.000729\n",
      "-1.30820    0.000729\n",
      "-2.77710    0.000729\n",
      "Name: 3, Length: 1156, dtype: float64\n",
      "\n",
      "4\n",
      "-------------------------\n",
      "0    0.555394\n",
      "1    0.444606\n",
      "Name: 4, dtype: float64\n",
      "\n"
     ]
    },
    {
     "name": "stderr",
     "output_type": "stream",
     "text": [
      "C:\\Users\\abira\\AppData\\Local\\Temp\\ipykernel_11116\\3251863220.py:4: DeprecationWarning: `np.float` is a deprecated alias for the builtin `float`. To silence this warning, use `float` by itself. Doing this will not modify any behavior and is safe. If you specifically wanted the numpy scalar type, use `np.float64` here.\n",
      "Deprecated in NumPy 1.20; for more details and guidance: https://numpy.org/devdocs/release/1.20.0-notes.html#deprecations\n",
      "  print(dataset[col].value_counts()/np.float(len(dataset)))\n",
      "C:\\Users\\abira\\AppData\\Local\\Temp\\ipykernel_11116\\3251863220.py:4: DeprecationWarning: `np.float` is a deprecated alias for the builtin `float`. To silence this warning, use `float` by itself. Doing this will not modify any behavior and is safe. If you specifically wanted the numpy scalar type, use `np.float64` here.\n",
      "Deprecated in NumPy 1.20; for more details and guidance: https://numpy.org/devdocs/release/1.20.0-notes.html#deprecations\n",
      "  print(dataset[col].value_counts()/np.float(len(dataset)))\n",
      "C:\\Users\\abira\\AppData\\Local\\Temp\\ipykernel_11116\\3251863220.py:4: DeprecationWarning: `np.float` is a deprecated alias for the builtin `float`. To silence this warning, use `float` by itself. Doing this will not modify any behavior and is safe. If you specifically wanted the numpy scalar type, use `np.float64` here.\n",
      "Deprecated in NumPy 1.20; for more details and guidance: https://numpy.org/devdocs/release/1.20.0-notes.html#deprecations\n",
      "  print(dataset[col].value_counts()/np.float(len(dataset)))\n",
      "C:\\Users\\abira\\AppData\\Local\\Temp\\ipykernel_11116\\3251863220.py:4: DeprecationWarning: `np.float` is a deprecated alias for the builtin `float`. To silence this warning, use `float` by itself. Doing this will not modify any behavior and is safe. If you specifically wanted the numpy scalar type, use `np.float64` here.\n",
      "Deprecated in NumPy 1.20; for more details and guidance: https://numpy.org/devdocs/release/1.20.0-notes.html#deprecations\n",
      "  print(dataset[col].value_counts()/np.float(len(dataset)))\n",
      "C:\\Users\\abira\\AppData\\Local\\Temp\\ipykernel_11116\\3251863220.py:4: DeprecationWarning: `np.float` is a deprecated alias for the builtin `float`. To silence this warning, use `float` by itself. Doing this will not modify any behavior and is safe. If you specifically wanted the numpy scalar type, use `np.float64` here.\n",
      "Deprecated in NumPy 1.20; for more details and guidance: https://numpy.org/devdocs/release/1.20.0-notes.html#deprecations\n",
      "  print(dataset[col].value_counts()/np.float(len(dataset)))\n"
     ]
    }
   ],
   "source": [
    "for col in dataset.columns:\n",
    "    print(col)\n",
    "    print('-------------------------')\n",
    "    print(dataset[col].value_counts()/np.float(len(dataset)))\n",
    "    print()"
   ]
  },
  {
   "cell_type": "markdown",
   "id": "f3dae8c7",
   "metadata": {},
   "source": [
    "# Box plot"
   ]
  },
  {
   "cell_type": "code",
   "execution_count": 100,
   "id": "e19c7498",
   "metadata": {},
   "outputs": [
    {
     "data": {
      "image/png": "[encoded data removed]",
      "text/plain": [
       "<Figure size 432x288 with 1 Axes>"
      ]
     },
     "metadata": {
      "needs_background": "light"
     },
     "output_type": "display_data"
    },
    {
     "data": {
      "image/png": "[encoded data removed]",
      "text/plain": [
       "<Figure size 432x288 with 1 Axes>"
      ]
     },
     "metadata": {
      "needs_background": "light"
     },
     "output_type": "display_data"
    },
    {
     "data": {
      "image/png": "[encoded data removed]",
      "text/plain": [
       "<Figure size 432x288 with 1 Axes>"
      ]
     },
     "metadata": {
      "needs_background": "light"
     },
     "output_type": "display_data"
    },
    {
     "data": {
      "image/png": "[encoded data removed]",
      "text/plain": [
       "<Figure size 432x288 with 1 Axes>"
      ]
     },
     "metadata": {
      "needs_background": "light"
     },
     "output_type": "display_data"
    },
    {
     "data": {
      "image/png": "[encoded data removed]",
      "text/plain": [
       "<Figure size 432x288 with 1 Axes>"
      ]
     },
     "metadata": {
      "needs_background": "light"
     },
     "output_type": "display_data"
    }
   ],
   "source": [
    "df1 = dataset.select_dtypes([np.int64, np.float64])\n",
    "for i, col in enumerate(df1.columns):\n",
    "    plt.figure(i)\n",
    "    sns.boxplot(y = col, data = df1)"
   ]
  },
  {
   "cell_type": "code",
   "execution_count": 101,
   "id": "ee4944c3",
   "metadata": {},
   "outputs": [
    {
     "data": {
      "image/png": "[encoded data removed]",
      "text/plain": [
       "<Figure size 864x432 with 1 Axes>"
      ]
     },
     "metadata": {
      "needs_background": "light"
     },
     "output_type": "display_data"
    }
   ],
   "source": [
    "# Select only numerical columns\n",
    "df1 = dataset.select_dtypes([np.int64, np.float64])\n",
    "\n",
    "# box plot for multiple variables\n",
    "plt.figure(figsize=(12, 6))\n",
    "sns.boxplot(data=df1)\n",
    "plt.xticks(rotation=45)\n",
    "plt.show()\n"
   ]
  },
  {
   "cell_type": "markdown",
   "id": "f0ca265a",
   "metadata": {},
   "source": [
    "# Split into input and output columns"
   ]
  },
  {
   "cell_type": "code",
   "execution_count": 102,
   "id": "d703ce6d",
   "metadata": {},
   "outputs": [],
   "source": [
    "X, y = dataset.values[:, :-1], dataset.values[:, -1]"
   ]
  },
  {
   "cell_type": "markdown",
   "id": "a5d57b18",
   "metadata": {},
   "source": [
    "# Split into train and test datasets\n"
   ]
  },
  {
   "cell_type": "code",
   "execution_count": 103,
   "id": "29df603b",
   "metadata": {},
   "outputs": [],
   "source": [
    "X_train, X_test, y_train, y_test = train_test_split(X, y, test_size=0.20)"
   ]
  },
  {
   "cell_type": "markdown",
   "id": "3a599484",
   "metadata": {},
   "source": [
    "# Determing the number of input features "
   ]
  },
  {
   "cell_type": "code",
   "execution_count": 104,
   "id": "68309d41",
   "metadata": {},
   "outputs": [],
   "source": [
    "n_features = X.shape[1]"
   ]
  },
  {
   "cell_type": "markdown",
   "id": "b53b7f29",
   "metadata": {},
   "source": [
    "# Implementing Activation Function "
   ]
  },
  {
   "cell_type": "code",
   "execution_count": 105,
   "id": "b76ff10e",
   "metadata": {},
   "outputs": [
    {
     "name": "stdout",
     "output_type": "stream",
     "text": [
      "Epoch 1/15\n",
      "35/35 - 3s - loss: 3.1509 - accuracy: 0.4959 - val_loss: 3.2949 - val_accuracy: 0.4364 - 3s/epoch - 74ms/step\n",
      "Epoch 2/15\n",
      "35/35 - 0s - loss: 2.6996 - accuracy: 0.5032 - val_loss: 2.7852 - val_accuracy: 0.4218 - 220ms/epoch - 6ms/step\n",
      "Epoch 3/15\n",
      "35/35 - 0s - loss: 2.2487 - accuracy: 0.4731 - val_loss: 2.2598 - val_accuracy: 0.3927 - 230ms/epoch - 7ms/step\n",
      "Epoch 4/15\n",
      "35/35 - 0s - loss: 1.8010 - accuracy: 0.4640 - val_loss: 1.7671 - val_accuracy: 0.4036 - 210ms/epoch - 6ms/step\n",
      "Epoch 5/15\n",
      "35/35 - 0s - loss: 1.4036 - accuracy: 0.4968 - val_loss: 1.3428 - val_accuracy: 0.4327 - 213ms/epoch - 6ms/step\n",
      "Epoch 6/15\n",
      "35/35 - 0s - loss: 1.0825 - accuracy: 0.5533 - val_loss: 1.0500 - val_accuracy: 0.5818 - 210ms/epoch - 6ms/step\n",
      "Epoch 7/15\n",
      "35/35 - 0s - loss: 0.8586 - accuracy: 0.6263 - val_loss: 0.8508 - val_accuracy: 0.6582 - 223ms/epoch - 6ms/step\n",
      "Epoch 8/15\n",
      "35/35 - 0s - loss: 0.6986 - accuracy: 0.6946 - val_loss: 0.7031 - val_accuracy: 0.6945 - 210ms/epoch - 6ms/step\n",
      "Epoch 9/15\n",
      "35/35 - 0s - loss: 0.5797 - accuracy: 0.7247 - val_loss: 0.5937 - val_accuracy: 0.7418 - 217ms/epoch - 6ms/step\n",
      "Epoch 10/15\n",
      "35/35 - 0s - loss: 0.4883 - accuracy: 0.7694 - val_loss: 0.5071 - val_accuracy: 0.7818 - 210ms/epoch - 6ms/step\n",
      "Epoch 11/15\n",
      "35/35 - 0s - loss: 0.4143 - accuracy: 0.7967 - val_loss: 0.4389 - val_accuracy: 0.8036 - 214ms/epoch - 6ms/step\n",
      "Epoch 12/15\n",
      "35/35 - 0s - loss: 0.3546 - accuracy: 0.8304 - val_loss: 0.3841 - val_accuracy: 0.8327 - 224ms/epoch - 6ms/step\n",
      "Epoch 13/15\n",
      "35/35 - 0s - loss: 0.3065 - accuracy: 0.8532 - val_loss: 0.3365 - val_accuracy: 0.8436 - 230ms/epoch - 7ms/step\n",
      "Epoch 14/15\n",
      "35/35 - 0s - loss: 0.2650 - accuracy: 0.8706 - val_loss: 0.2976 - val_accuracy: 0.8545 - 230ms/epoch - 7ms/step\n",
      "Epoch 15/15\n",
      "35/35 - 0s - loss: 0.2313 - accuracy: 0.8897 - val_loss: 0.2641 - val_accuracy: 0.8836 - 220ms/epoch - 6ms/step\n",
      "9/9 [==============================] - 0s 3ms/step\n"
     ]
    }
   ],
   "source": [
    "#definig the model\n",
    "model = Sequential()\n",
    "model.add(Dense(10, activation='relu', kernel_initializer='he_normal', input_shape=(n_features,)))\n",
    "model.add(Dense(1, activation='sigmoid'))\n",
    "# compile the model\n",
    "model.compile(optimizer='adam', loss='binary_crossentropy', metrics=['accuracy'])\n",
    "# fit the model\n",
    "history = model.fit(X_train, y_train, epochs=15, batch_size=32, verbose=2, validation_data=(X_test,y_test))\n",
    "# predict test set\n",
    "yhat = model.predict(X_test) > 0.5\n",
    "# evaluate predictions\n",
    "score = accuracy_score(y_test, yhat)\n"
   ]
  },
  {
   "cell_type": "code",
   "execution_count": 106,
   "id": "c33d3d99",
   "metadata": {},
   "outputs": [
    {
     "name": "stdout",
     "output_type": "stream",
     "text": [
      "Accuracy for the model: 0.884\n"
     ]
    }
   ],
   "source": [
    "print('Accuracy for the model: %.3f' % score)"
   ]
  },
  {
   "cell_type": "code",
   "execution_count": 107,
   "id": "7ffc09ef",
   "metadata": {},
   "outputs": [
    {
     "data": {
      "text/plain": [
       "'              precision    recall  f1-score   support\\n\\n           0       0.85      0.97      0.91       160\\n           1       0.95      0.77      0.85       115\\n\\n    accuracy                           0.88       275\\n   macro avg       0.90      0.87      0.88       275\\nweighted avg       0.89      0.88      0.88       275\\n'"
      ]
     },
     "execution_count": 107,
     "metadata": {},
     "output_type": "execute_result"
    }
   ],
   "source": [
    "from sklearn.metrics import classification_report\n",
    "classification_report(y_test, yhat, labels=[0,1])"
   ]
  },
  {
   "cell_type": "markdown",
   "id": "8bdf113e",
   "metadata": {},
   "source": [
    "# Train Accuracy vs Test  Accuracy"
   ]
  },
  {
   "cell_type": "code",
   "execution_count": 108,
   "id": "c6905a74",
   "metadata": {},
   "outputs": [
    {
     "name": "stdout",
     "output_type": "stream",
     "text": [
      "Train Accuracy of the model: 0.904,\n",
      " Test Accuracy of the model: 0.884\n"
     ]
    }
   ],
   "source": [
    "# evaluate the model\n",
    "_, train_acc = model.evaluate(X_train, y_train, verbose=0)\n",
    "_, test_acc = model.evaluate(X_test, y_test, verbose=0)\n",
    "print('Train Accuracy of the model: %.3f,\\n Test Accuracy of the model: %.3f' % (train_acc, test_acc))"
   ]
  },
  {
   "cell_type": "markdown",
   "id": "74fb7d91",
   "metadata": {},
   "source": [
    "# Visulization "
   ]
  },
  {
   "cell_type": "code",
   "execution_count": 109,
   "id": "38ca7a42",
   "metadata": {},
   "outputs": [
    {
     "data": {
      "image/png": "[encoded data removed]",
      "text/plain": [
       "<Figure size 432x288 with 1 Axes>"
      ]
     },
     "metadata": {
      "needs_background": "light"
     },
     "output_type": "display_data"
    },
    {
     "data": {
      "image/png": "[encoded data removed]",
      "text/plain": [
       "<Figure size 432x288 with 1 Axes>"
      ]
     },
     "metadata": {
      "needs_background": "light"
     },
     "output_type": "display_data"
    }
   ],
   "source": [
    "# plot learning curves\n",
    "plt.title('Loss Curve')\n",
    "plt.xlabel('Epoch')\n",
    "plt.ylabel('Loss')\n",
    "plt.plot(history.history['loss'], label='train')\n",
    "plt.plot(history.history['val_loss'], label='val')\n",
    "plt.legend()\n",
    "plt.show()\n",
    "\n",
    "plt.title('Accuracy')\n",
    "plt.xlabel('Epoch')\n",
    "plt.ylabel('Accuracy')\n",
    "plt.plot(history.history['accuracy'], label='train')\n",
    "plt.plot(history.history['val_accuracy'], label='test')\n",
    "plt.legend()\n",
    "plt.show()"
   ]
  },
  {
   "cell_type": "code",
   "execution_count": 110,
   "id": "12d58220",
   "metadata": {},
   "outputs": [],
   "source": [
    "from sklearn.metrics import accuracy_score\n",
    "from sklearn.metrics import precision_score\n",
    "from sklearn.metrics import recall_score\n",
    "from sklearn.metrics import f1_score\n",
    "from sklearn.metrics import cohen_kappa_score\n",
    "from sklearn.metrics import roc_auc_score\n",
    "from sklearn.metrics import confusion_matrix\n",
    "from keras.models import Sequential\n",
    "from keras.layers import Dense\n",
    "\n"
   ]
  },
  {
   "cell_type": "code",
   "execution_count": 111,
   "id": "d50e1fe8",
   "metadata": {},
   "outputs": [
    {
     "name": "stdout",
     "output_type": "stream",
     "text": [
      "9/9 - 0s - 79ms/epoch - 9ms/step\n"
     ]
    }
   ],
   "source": [
    "# predict probabilities for test set\n",
    "yhat_probs = model.predict(X_test, verbose=2)>0.5\n",
    "# predict crisp classes for test set\n",
    "yhat_classes = model.predict(X_test, verbose=0)>0.5\n",
    "# reduce to 1d array\n",
    "yhat_probs = yhat_probs[:, 0]\n",
    "yhat_classes = yhat_classes[:, 0]"
   ]
  },
  {
   "cell_type": "markdown",
   "id": "acfa17ab",
   "metadata": {},
   "source": [
    "# Accuracy , percision,recall and f1 score\n",
    "\n"
   ]
  },
  {
   "cell_type": "code",
   "execution_count": 112,
   "id": "71d27ed2",
   "metadata": {},
   "outputs": [
    {
     "name": "stdout",
     "output_type": "stream",
     "text": [
      "Accuracy of the model: 0.883636\n",
      "Precision for the model: 0.946237\n",
      "Recall for the model: 0.765217\n",
      "F1 score for the model: 0.846154\n"
     ]
    }
   ],
   "source": [
    "# accuracy: (tp + tn) / (p + n)\n",
    "accuracy = accuracy_score(y_test, yhat_classes)\n",
    "print('Accuracy of the model: %f' % accuracy)\n",
    "# precision tp / (tp + fp)\n",
    "precision = precision_score(y_test, yhat_classes)\n",
    "print('Precision for the model: %f' % precision)\n",
    "# recall: tp / (tp + fn)\n",
    "recall = recall_score(y_test, yhat_classes)\n",
    "print('Recall for the model: %f' % recall)\n",
    "# f1: 2 tp / (2 tp + fp + fn)\n",
    "f1 = f1_score(y_test, yhat_classes)\n",
    "print('F1 score for the model: %f' % f1)"
   ]
  },
  {
   "cell_type": "code",
   "execution_count": 113,
   "id": "ece5eff4",
   "metadata": {},
   "outputs": [
    {
     "name": "stdout",
     "output_type": "stream",
     "text": [
      "Cohens kappa: 0.754259\n",
      "ROC AUC: 0.866984\n",
      "[[155   5]\n",
      " [ 27  88]]\n"
     ]
    }
   ],
   "source": [
    "# kappa\n",
    "kappa = cohen_kappa_score(y_test, yhat_classes)\n",
    "print('Cohens kappa: %f' % kappa)\n",
    "# ROC AUC\n",
    "auc = roc_auc_score(y_test, yhat_probs)\n",
    "print('ROC AUC: %f' % auc)\n",
    "# confusion matrix\n",
    "matrix = confusion_matrix(y_test, yhat_classes)\n",
    "print(matrix)"
   ]
  },
  {
   "cell_type": "markdown",
   "id": "59886c6d",
   "metadata": {},
   "source": [
    "# Implementing Activation Function\n"
   ]
  },
  {
   "cell_type": "code",
   "execution_count": 114,
   "id": "83b8c062",
   "metadata": {},
   "outputs": [
    {
     "name": "stdout",
     "output_type": "stream",
     "text": [
      "Epoch 1/25\n",
      "35/35 - 3s - loss: 5.4271 - accuracy: 0.3610 - val_loss: 5.0438 - val_accuracy: 0.3455 - 3s/epoch - 85ms/step\n",
      "Epoch 2/25\n",
      "35/35 - 0s - loss: 4.5583 - accuracy: 0.3555 - val_loss: 4.1873 - val_accuracy: 0.3418 - 238ms/epoch - 7ms/step\n",
      "Epoch 3/25\n",
      "35/35 - 0s - loss: 3.7420 - accuracy: 0.3409 - val_loss: 3.3948 - val_accuracy: 0.3236 - 209ms/epoch - 6ms/step\n",
      "Epoch 4/25\n",
      "35/35 - 0s - loss: 2.9782 - accuracy: 0.3045 - val_loss: 2.6368 - val_accuracy: 0.2909 - 220ms/epoch - 6ms/step\n",
      "Epoch 5/25\n",
      "35/35 - 0s - loss: 2.2726 - accuracy: 0.2689 - val_loss: 1.9730 - val_accuracy: 0.2727 - 210ms/epoch - 6ms/step\n",
      "Epoch 6/25\n",
      "35/35 - 0s - loss: 1.6540 - accuracy: 0.2853 - val_loss: 1.4322 - val_accuracy: 0.2982 - 225ms/epoch - 6ms/step\n",
      "Epoch 7/25\n",
      "35/35 - 0s - loss: 1.1927 - accuracy: 0.3345 - val_loss: 1.0582 - val_accuracy: 0.3164 - 210ms/epoch - 6ms/step\n",
      "Epoch 8/25\n",
      "35/35 - 0s - loss: 0.9072 - accuracy: 0.4148 - val_loss: 0.8437 - val_accuracy: 0.4618 - 200ms/epoch - 6ms/step\n",
      "Epoch 9/25\n",
      "35/35 - 0s - loss: 0.7355 - accuracy: 0.5469 - val_loss: 0.7035 - val_accuracy: 0.5527 - 220ms/epoch - 6ms/step\n",
      "Epoch 10/25\n",
      "35/35 - 0s - loss: 0.6165 - accuracy: 0.6272 - val_loss: 0.6034 - val_accuracy: 0.6255 - 221ms/epoch - 6ms/step\n",
      "Epoch 11/25\n",
      "35/35 - 0s - loss: 0.5260 - accuracy: 0.7037 - val_loss: 0.5241 - val_accuracy: 0.7127 - 214ms/epoch - 6ms/step\n",
      "Epoch 12/25\n",
      "35/35 - 0s - loss: 0.4543 - accuracy: 0.7776 - val_loss: 0.4597 - val_accuracy: 0.8073 - 220ms/epoch - 6ms/step\n",
      "Epoch 13/25\n",
      "35/35 - 0s - loss: 0.3960 - accuracy: 0.8323 - val_loss: 0.4061 - val_accuracy: 0.8364 - 240ms/epoch - 7ms/step\n",
      "Epoch 14/25\n",
      "35/35 - 0s - loss: 0.3482 - accuracy: 0.8541 - val_loss: 0.3631 - val_accuracy: 0.8473 - 215ms/epoch - 6ms/step\n",
      "Epoch 15/25\n",
      "35/35 - 0s - loss: 0.3092 - accuracy: 0.8651 - val_loss: 0.3254 - val_accuracy: 0.8618 - 219ms/epoch - 6ms/step\n",
      "Epoch 16/25\n",
      "35/35 - 0s - loss: 0.2768 - accuracy: 0.8778 - val_loss: 0.2935 - val_accuracy: 0.8800 - 230ms/epoch - 7ms/step\n",
      "Epoch 17/25\n",
      "35/35 - 0s - loss: 0.2494 - accuracy: 0.8879 - val_loss: 0.2668 - val_accuracy: 0.8836 - 220ms/epoch - 6ms/step\n",
      "Epoch 18/25\n",
      "35/35 - 0s - loss: 0.2258 - accuracy: 0.8952 - val_loss: 0.2436 - val_accuracy: 0.8873 - 224ms/epoch - 6ms/step\n",
      "Epoch 19/25\n",
      "35/35 - 0s - loss: 0.2052 - accuracy: 0.9061 - val_loss: 0.2223 - val_accuracy: 0.9127 - 210ms/epoch - 6ms/step\n",
      "Epoch 20/25\n",
      "35/35 - 0s - loss: 0.1875 - accuracy: 0.9207 - val_loss: 0.2043 - val_accuracy: 0.9491 - 211ms/epoch - 6ms/step\n",
      "Epoch 21/25\n",
      "35/35 - 0s - loss: 0.1720 - accuracy: 0.9572 - val_loss: 0.1886 - val_accuracy: 0.9673 - 229ms/epoch - 7ms/step\n",
      "Epoch 22/25\n",
      "35/35 - 0s - loss: 0.1580 - accuracy: 0.9635 - val_loss: 0.1743 - val_accuracy: 0.9782 - 210ms/epoch - 6ms/step\n",
      "Epoch 23/25\n",
      "35/35 - 0s - loss: 0.1460 - accuracy: 0.9699 - val_loss: 0.1620 - val_accuracy: 0.9782 - 220ms/epoch - 6ms/step\n",
      "Epoch 24/25\n",
      "35/35 - 0s - loss: 0.1354 - accuracy: 0.9717 - val_loss: 0.1509 - val_accuracy: 0.9782 - 220ms/epoch - 6ms/step\n",
      "Epoch 25/25\n",
      "35/35 - 0s - loss: 0.1261 - accuracy: 0.9745 - val_loss: 0.1410 - val_accuracy: 0.9782 - 205ms/epoch - 6ms/step\n",
      "9/9 [==============================] - 0s 3ms/step\n"
     ]
    }
   ],
   "source": [
    "# define model\n",
    "model = Sequential()\n",
    "model.add(Dense(10, activation='relu', kernel_initializer='he_normal', input_shape=(n_features,)))\n",
    "model.add(Dense(1, activation='sigmoid'))\n",
    "# compile the model\n",
    "model.compile(optimizer='adam', loss='binary_crossentropy', metrics=['accuracy'])\n",
    "# fit the model\n",
    "history = model.fit(X_train, y_train, epochs=25, batch_size=32, verbose=2, validation_data=(X_test,y_test))\n",
    "# predict test set\n",
    "yhat = model.predict(X_test) > 0.5\n",
    "# evaluate predictions\n",
    "score = accuracy_score(y_test, yhat)\n"
   ]
  },
  {
   "cell_type": "code",
   "execution_count": 115,
   "id": "57a742db",
   "metadata": {},
   "outputs": [
    {
     "name": "stdout",
     "output_type": "stream",
     "text": [
      "Accuracy of the model: 0.978\n"
     ]
    }
   ],
   "source": [
    "print('Accuracy of the model: %.3f' % score)"
   ]
  },
  {
   "cell_type": "code",
   "execution_count": 116,
   "id": "a3ecc0eb",
   "metadata": {},
   "outputs": [
    {
     "data": {
      "text/plain": [
       "'              precision    recall  f1-score   support\\n\\n           0       0.98      0.99      0.98       160\\n           1       0.98      0.97      0.97       115\\n\\n    accuracy                           0.98       275\\n   macro avg       0.98      0.98      0.98       275\\nweighted avg       0.98      0.98      0.98       275\\n'"
      ]
     },
     "execution_count": 116,
     "metadata": {},
     "output_type": "execute_result"
    }
   ],
   "source": [
    "from sklearn.metrics import classification_report\n",
    "classification_report(y_test, yhat, labels=[0,1])"
   ]
  },
  {
   "cell_type": "code",
   "execution_count": 117,
   "id": "966db2e8",
   "metadata": {},
   "outputs": [
    {
     "name": "stdout",
     "output_type": "stream",
     "text": [
      "Train: 0.976, Test: 0.978\n"
     ]
    }
   ],
   "source": [
    "# evaluate the model\n",
    "_, train_acc = model.evaluate(X_train, y_train, verbose=0)\n",
    "_, test_acc = model.evaluate(X_test, y_test, verbose=0)\n",
    "print('Train: %.3f, Test: %.3f' % (train_acc, test_acc))"
   ]
  },
  {
   "cell_type": "code",
   "execution_count": 118,
   "id": "a4ae945c",
   "metadata": {},
   "outputs": [
    {
     "data": {
      "image/png": "[encoded data removed]",
      "text/plain": [
       "<Figure size 432x288 with 1 Axes>"
      ]
     },
     "metadata": {
      "needs_background": "light"
     },
     "output_type": "display_data"
    },
    {
     "data": {
      "image/png": "[encoded data removed]",
      "text/plain": [
       "<Figure size 432x288 with 1 Axes>"
      ]
     },
     "metadata": {
      "needs_background": "light"
     },
     "output_type": "display_data"
    }
   ],
   "source": [
    "# plot learning curves\n",
    "plt.title('Loss Curve')\n",
    "plt.xlabel('Epoch')\n",
    "plt.ylabel('Loss')\n",
    "plt.plot(history.history['loss'], label='train')\n",
    "plt.plot(history.history['val_loss'], label='val')\n",
    "plt.legend()\n",
    "plt.show()\n",
    "\n",
    "plt.title('Accuracy')\n",
    "plt.xlabel('Epoch')\n",
    "plt.ylabel('Accuracy')\n",
    "plt.plot(history.history['accuracy'], label='train')\n",
    "plt.plot(history.history['val_accuracy'], label='test')\n",
    "plt.legend()\n",
    "plt.show()"
   ]
  },
  {
   "cell_type": "markdown",
   "id": "a446cf5b",
   "metadata": {},
   "source": [
    "# Evaluvation metrics"
   ]
  },
  {
   "cell_type": "code",
   "execution_count": 119,
   "id": "c8979fbd",
   "metadata": {},
   "outputs": [],
   "source": [
    "from sklearn.metrics import accuracy_score\n",
    "from sklearn.metrics import precision_score\n",
    "from sklearn.metrics import recall_score\n",
    "from sklearn.metrics import f1_score\n",
    "from sklearn.metrics import cohen_kappa_score\n",
    "from sklearn.metrics import roc_auc_score\n",
    "from sklearn.metrics import confusion_matrix\n",
    "from keras.models import Sequential\n",
    "from keras.layers import Dense"
   ]
  },
  {
   "cell_type": "code",
   "execution_count": 120,
   "id": "912c9877",
   "metadata": {},
   "outputs": [
    {
     "name": "stdout",
     "output_type": "stream",
     "text": [
      "9/9 - 0s - 68ms/epoch - 8ms/step\n"
     ]
    }
   ],
   "source": [
    "# predict probabilities for test set\n",
    "yhat_probs = model.predict(X_test, verbose=2)>0.5\n",
    "# predict crisp classes for test set\n",
    "yhat_classes = model.predict(X_test, verbose=0)>0.5\n",
    "# reduce to 1d array\n",
    "yhat_probs = yhat_probs[:, 0]\n",
    "yhat_classes = yhat_classes[:, 0]"
   ]
  },
  {
   "cell_type": "code",
   "execution_count": 121,
   "id": "dd36fb98",
   "metadata": {},
   "outputs": [
    {
     "name": "stdout",
     "output_type": "stream",
     "text": [
      "Accuracy of the model: 0.978182\n",
      "Precision for the model: 0.982301\n",
      "Recall for the model: 0.965217\n",
      "F1 score for the model: 0.973684\n"
     ]
    }
   ],
   "source": [
    "# accuracy: (tp + tn) / (p + n)\n",
    "accuracy = accuracy_score(y_test, yhat_classes)\n",
    "print('Accuracy of the model: %f' % accuracy)\n",
    "# precision tp / (tp + fp)\n",
    "precision = precision_score(y_test, yhat_classes)\n",
    "print('Precision for the model: %f' % precision)\n",
    "# recall: tp / (tp + fn)\n",
    "recall = recall_score(y_test, yhat_classes)\n",
    "print('Recall for the model: %f' % recall)\n",
    "# f1: 2 tp / (2 tp + fp + fn)\n",
    "f1 = f1_score(y_test, yhat_classes)\n",
    "print('F1 score for the model: %f' % f1)"
   ]
  },
  {
   "cell_type": "code",
   "execution_count": 122,
   "id": "9ee1583b",
   "metadata": {},
   "outputs": [
    {
     "name": "stdout",
     "output_type": "stream",
     "text": [
      "Cohens kappa: 0.955053\n",
      "ROC AUC: 0.976359\n",
      "[[158   2]\n",
      " [  4 111]]\n"
     ]
    }
   ],
   "source": [
    "# kappa\n",
    "kappa = cohen_kappa_score(y_test, yhat_classes)\n",
    "print('Cohens kappa: %f' % kappa)\n",
    "# ROC AUC\n",
    "auc = roc_auc_score(y_test, yhat_probs)\n",
    "print('ROC AUC: %f' % auc)\n",
    "# confusion matrix\n",
    "matrix = confusion_matrix(y_test, yhat_classes)\n",
    "print(matrix)"
   ]
  },
  {
   "cell_type": "code",
   "execution_count": null,
   "id": "53d58103",
   "metadata": {},
   "outputs": [],
   "source": []
  }
 ],
 "metadata": {
  "kernelspec": {
   "display_name": "Python 3 (ipykernel)",
   "language": "python",
   "name": "python3"
  },
  "language_info": {
   "codemirror_mode": {
    "name": "ipython",
    "version": 3
   },
   "file_extension": ".py",
   "mimetype": "text/x-python",
   "name": "python",
   "nbconvert_exporter": "python",
   "pygments_lexer": "ipython3",
   "version": "3.9.12"
  }
 },
 "nbformat": 4,
 "nbformat_minor": 5
}
